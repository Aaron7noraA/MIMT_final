{
 "cells": [
  {
   "cell_type": "code",
   "execution_count": 13,
   "metadata": {},
   "outputs": [],
   "source": [
    "from util.vision import imgloader, rgb_transform\n",
    "import os\n",
    "from glob import glob\n",
    "from torchvision import transforms\n",
    "import torch"
   ]
  },
  {
   "cell_type": "code",
   "execution_count": 6,
   "metadata": {},
   "outputs": [],
   "source": [
    "folder = glob(os.getenv(\"DATASET\") + 'vimeo_septuplet/' + 'img/*/*/')"
   ]
  },
  {
   "cell_type": "code",
   "execution_count": 7,
   "metadata": {},
   "outputs": [
    {
     "data": {
      "text/plain": [
       "91701"
      ]
     },
     "execution_count": 7,
     "metadata": {},
     "output_type": "execute_result"
    }
   ],
   "source": [
    "len(folder)"
   ]
  },
  {
   "cell_type": "code",
   "execution_count": 18,
   "metadata": {},
   "outputs": [],
   "source": [
    "trans = transforms.Compose([transforms.RandomCrop((256, 256)),\n",
    "                            transforms.ToTensor()])"
   ]
  },
  {
   "cell_type": "code",
   "execution_count": 22,
   "metadata": {
    "scrolled": true
   },
   "outputs": [
    {
     "name": "stdout",
     "output_type": "stream",
     "text": [
      "/work/tl32rodan/video_dataset/vimeo_septuplet/img/00080/0317/ :  0 191831\n",
      "/work/tl32rodan/video_dataset/vimeo_septuplet/img/00080/0879/ :  191430 0\n",
      "/work/tl32rodan/video_dataset/vimeo_septuplet/img/00045/0694/ :  0 194326\n",
      "/work/tl32rodan/video_dataset/vimeo_septuplet/img/00066/0208/ :  0 138220\n",
      "/work/tl32rodan/video_dataset/vimeo_septuplet/img/00089/0473/ :  0 19161\n",
      "/work/tl32rodan/video_dataset/vimeo_septuplet/img/00040/0483/ :  0 16296\n",
      "/work/tl32rodan/video_dataset/vimeo_septuplet/img/00040/0484/ :  0 46703\n",
      "/work/tl32rodan/video_dataset/vimeo_septuplet/img/00044/0212/ :  0 8834\n",
      "/work/tl32rodan/video_dataset/vimeo_septuplet/img/00009/0235/ :  0 142892\n",
      "/work/tl32rodan/video_dataset/vimeo_septuplet/img/00027/0750/ :  0 141360\n",
      "/work/tl32rodan/video_dataset/vimeo_septuplet/img/00092/0375/ :  0 174155\n",
      "/work/tl32rodan/video_dataset/vimeo_septuplet/img/00016/0024/ :  0 2286\n",
      "/work/tl32rodan/video_dataset/vimeo_septuplet/img/00028/0373/ :  0 194615\n",
      "/work/tl32rodan/video_dataset/vimeo_septuplet/img/00038/0896/ :  0 116983\n",
      "/work/tl32rodan/video_dataset/vimeo_septuplet/img/00048/0063/ :  0 144898\n",
      "/work/tl32rodan/video_dataset/vimeo_septuplet/img/00048/0137/ :  0 9025\n",
      "/work/tl32rodan/video_dataset/vimeo_septuplet/img/00048/0034/ :  0 138285\n",
      "/work/tl32rodan/video_dataset/vimeo_septuplet/img/00077/0179/ :  0 196608\n",
      "/work/tl32rodan/video_dataset/vimeo_septuplet/img/00078/0421/ :  0 196608\n",
      "/work/tl32rodan/video_dataset/vimeo_septuplet/img/00088/0274/ :  0 195302\n",
      "/work/tl32rodan/video_dataset/vimeo_septuplet/img/00088/0297/ :  0 194944\n",
      "/work/tl32rodan/video_dataset/vimeo_septuplet/img/00088/0794/ :  0 137874\n",
      "/work/tl32rodan/video_dataset/vimeo_septuplet/img/00088/0296/ :  0 191122\n",
      "/work/tl32rodan/video_dataset/vimeo_septuplet/img/00088/0937/ :  0 1218\n",
      "/work/tl32rodan/video_dataset/vimeo_septuplet/img/00088/0310/ :  0 131323\n",
      "/work/tl32rodan/video_dataset/vimeo_septuplet/img/00036/0974/ :  0 165266\n",
      "/work/tl32rodan/video_dataset/vimeo_septuplet/img/00047/0866/ :  0 175259\n",
      "/work/tl32rodan/video_dataset/vimeo_septuplet/img/00047/0865/ :  0 154287\n",
      "/work/tl32rodan/video_dataset/vimeo_septuplet/img/00085/0364/ :  0 179105\n",
      "/work/tl32rodan/video_dataset/vimeo_septuplet/img/00085/0157/ :  0 142849\n",
      "/work/tl32rodan/video_dataset/vimeo_septuplet/img/00037/0453/ :  148992 0\n",
      "/work/tl32rodan/video_dataset/vimeo_septuplet/img/00052/0351/ :  0 196608\n",
      "/work/tl32rodan/video_dataset/vimeo_septuplet/img/00073/0187/ :  0 174103\n",
      "/work/tl32rodan/video_dataset/vimeo_septuplet/img/00074/0095/ :  0 73446\n",
      "/work/tl32rodan/video_dataset/vimeo_septuplet/img/00074/0650/ :  0 0\n",
      "/work/tl32rodan/video_dataset/vimeo_septuplet/img/00074/0637/ :  0 0\n",
      "/work/tl32rodan/video_dataset/vimeo_septuplet/img/00074/0089/ :  0 196608\n",
      "/work/tl32rodan/video_dataset/vimeo_septuplet/img/00075/0623/ :  0 1647\n",
      "/work/tl32rodan/video_dataset/vimeo_septuplet/img/00075/0550/ :  0 145034\n",
      "/work/tl32rodan/video_dataset/vimeo_septuplet/img/00029/0279/ :  0 50061\n",
      "/work/tl32rodan/video_dataset/vimeo_septuplet/img/00026/0288/ :  0 106816\n",
      "/work/tl32rodan/video_dataset/vimeo_septuplet/img/00094/0390/ :  0 13032\n",
      "/work/tl32rodan/video_dataset/vimeo_septuplet/img/00094/0716/ :  0 53845\n",
      "/work/tl32rodan/video_dataset/vimeo_septuplet/img/00014/0346/ :  0 189491\n",
      "/work/tl32rodan/video_dataset/vimeo_septuplet/img/00014/0394/ :  0 196608\n",
      "/work/tl32rodan/video_dataset/vimeo_septuplet/img/00014/0043/ :  0 119797\n",
      "/work/tl32rodan/video_dataset/vimeo_septuplet/img/00014/0818/ :  0 0\n",
      "/work/tl32rodan/video_dataset/vimeo_septuplet/img/00014/0030/ :  0 111406\n",
      "/work/tl32rodan/video_dataset/vimeo_septuplet/img/00072/0950/ :  0 0\n",
      "/work/tl32rodan/video_dataset/vimeo_septuplet/img/00051/0531/ :  0 177507\n",
      "/work/tl32rodan/video_dataset/vimeo_septuplet/img/00051/0867/ :  0 122443\n",
      "/work/tl32rodan/video_dataset/vimeo_septuplet/img/00051/0868/ :  0 157735\n",
      "/work/tl32rodan/video_dataset/vimeo_septuplet/img/00046/0113/ :  0 103480\n",
      "/work/tl32rodan/video_dataset/vimeo_septuplet/img/00067/0834/ :  0 133450\n",
      "/work/tl32rodan/video_dataset/vimeo_septuplet/img/00031/0138/ :  0 58252\n"
     ]
    }
   ],
   "source": [
    "black_seqs = []\n",
    "f = open('dump_info/black_seq.txt', 'w')\n",
    "for training_seq in folder:\n",
    "    file = training_seq + '0.png'\n",
    "    img0 = trans(imgloader(file))\n",
    "    file = training_seq + '1.png'\n",
    "    img6 = trans(imgloader(file))\n",
    "    if len(torch.nonzero(img0)) < 10 or len(torch.nonzero(img6)) < 10:\n",
    "        print(training_seq, ': ', len(torch.nonzero(img0)), len(torch.nonzero(img6)))\n",
    "        if len(torch.nonzero(img0)) < 10 and len(torch.nonzero(img6)) < 10:\n",
    "            black_seqs.append(training_seq)\n",
    "            f.write(training_seq+'\\n')"
   ]
  },
  {
   "cell_type": "code",
   "execution_count": 23,
   "metadata": {},
   "outputs": [],
   "source": [
    "f.close()"
   ]
  },
  {
   "cell_type": "code",
   "execution_count": null,
   "metadata": {},
   "outputs": [],
   "source": []
  }
 ],
 "metadata": {
  "kernelspec": {
   "display_name": "Python 3",
   "language": "python",
   "name": "python3"
  },
  "language_info": {
   "codemirror_mode": {
    "name": "ipython",
    "version": 3
   },
   "file_extension": ".py",
   "mimetype": "text/x-python",
   "name": "python",
   "nbconvert_exporter": "python",
   "pygments_lexer": "ipython3",
   "version": "3.6.9"
  }
 },
 "nbformat": 4,
 "nbformat_minor": 2
}
